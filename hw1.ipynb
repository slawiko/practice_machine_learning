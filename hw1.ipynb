{
 "cells": [
  {
   "cell_type": "markdown",
   "metadata": {},
   "source": [
    "### 1\n",
    "\n",
    "Так как выполняется предположение о реализуемости, то существует такой прямоугольник, который разделяет два класса точек по принципу внутри прямоугольника - класс 1, вне прямоугольника - класс 0.\n",
    "\n",
    "Эмпирический риск алгоритма А равен 0, потому что нет ни одной точки класса 0, которая попала в прямоугольник (из-за предположения о реализуемости). Получить ошибку меньше 0 невозможно, следовательно алгоритм реализует ERM-парадигму."
   ]
  },
  {
   "cell_type": "markdown",
   "metadata": {},
   "source": [
    "### 2"
   ]
  },
  {
   "cell_type": "code",
   "execution_count": 64,
   "metadata": {
    "scrolled": true
   },
   "outputs": [
    {
     "data": {
      "image/png": "[encoded data removed]",
      "text/plain": [
       "<Figure size 432x288 with 1 Axes>"
      ]
     },
     "metadata": {
      "needs_background": "light"
     },
     "output_type": "display_data"
    }
   ],
   "source": [
    "%matplotlib inline\n",
    "\n",
    "import random\n",
    "import math\n",
    "import matplotlib.pyplot as plt\n",
    "\n",
    "\n",
    "def is_in_square(coord):\n",
    "    s = math.sqrt(0.5)\n",
    "    return 0 <= coord[0] <= s and 0 <= coord[1] <= s\n",
    "\n",
    "def generate_sample(m):\n",
    "    result = []\n",
    "    \n",
    "    for _ in range(m):\n",
    "        x = random.random()\n",
    "        y = random.random()\n",
    "        answer = is_in_square((x, y))\n",
    "        result.append((x, y, answer))\n",
    "        \n",
    "    return result\n",
    "\n",
    "def A(sample):\n",
    "    x_min, x_max, y_min, y_max = 1, 0, 1, 0\n",
    "    for entry in sample:\n",
    "        if not entry[2]:\n",
    "            continue\n",
    "            \n",
    "        if entry[0] < x_min:\n",
    "            x_min = entry[0]\n",
    "        elif entry[0] > x_max:\n",
    "            x_max = entry[0]\n",
    "        \n",
    "        if entry[1] < y_min:\n",
    "            y_min = entry[1]\n",
    "        elif entry[1] > y_max:\n",
    "            y_max = entry[1]\n",
    "    \n",
    "    return (x_min, x_max, y_min, y_max)\n",
    "\n",
    "def calculate_true_risk(rect):\n",
    "    rect_area = (rect[1] - rect[0]) * (rect[3] - rect[2])\n",
    "    true_area = 0.5\n",
    "    glob_area = 1\n",
    "    \n",
    "    return (true_area - rect_area) / glob_area\n",
    "\n",
    "def average_risk(m):\n",
    "    k = 50\n",
    "    tmp = 0\n",
    "    \n",
    "    for _ in range(k):\n",
    "        tmp += calculate_true_risk(A(generate_sample(m)))\n",
    "    \n",
    "    return tmp / k\n",
    "\n",
    "ms = range(200, 600, 10)\n",
    "true_risks = [average_risk(m) for m in ms]\n",
    "\n",
    "plt.xlabel('m')\n",
    "plt.ylabel('True risk')\n",
    "plt.plot(ms, true_risks)\n",
    "\n",
    "plt.show()\n",
    "\n",
    "\n"
   ]
  },
  {
   "cell_type": "markdown",
   "metadata": {},
   "source": [
    "> Какой в среднем понадобился размер выборки, чтоб true risk 10%? 1%? 0.1%?:\n",
    "\n",
    "10% - m около 40\n",
    "1% - m около 400\n",
    "0.1% - m около 3900"
   ]
  },
  {
   "cell_type": "markdown",
   "metadata": {},
   "source": [
    "> Как ответ на предыдущий пункт должен зависить от площади X?\n",
    "\n",
    "чем больше площадь X тем меньше ошибка (исходя из формулы true risk (Q - E) / X, где E - площадь прямоугольника, построенного алгоритмом A)\n",
    "\n",
    "> От относительной площади Q и X?\n",
    "\n",
    "никак, так как нет зависимости на это отношение\n",
    "\n",
    "> От размерности пространства X?\n",
    "\n",
    "да, так как чем больше размерность пространства, тем меньше true risk. В двумерном пространстве квадрат со стороной 1/sqrt(2) занимает половину площади квадрата со стороной 1. В трехмерном пространстве, куб со тороной 1/sqrt(2) занимает четверть объема куба со стороной 1.\n",
    "\n",
    "> Должен ли зависеть результат от D?\n",
    "\n"
   ]
  }
 ],
 "metadata": {
  "kernelspec": {
   "display_name": "Python 3",
   "language": "python",
   "name": "python3"
  },
  "language_info": {
   "codemirror_mode": {
    "name": "ipython",
    "version": 3
   },
   "file_extension": ".py",
   "mimetype": "text/x-python",
   "name": "python",
   "nbconvert_exporter": "python",
   "pygments_lexer": "ipython3",
   "version": "3.7.0"
  }
 },
 "nbformat": 4,
 "nbformat_minor": 2
}
